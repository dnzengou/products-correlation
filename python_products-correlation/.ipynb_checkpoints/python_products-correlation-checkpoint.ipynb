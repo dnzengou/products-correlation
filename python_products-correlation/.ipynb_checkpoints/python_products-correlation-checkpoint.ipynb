{
 "cells": [
  {
   "cell_type": "markdown",
   "metadata": {},
   "source": [
    "Creatve Common  (c) 2019 [Dez](desireyavro.com)\n",
    "\n",
    "https://github.com/dnzengou/products-correlation"
   ]
  },
  {
   "cell_type": "markdown",
   "metadata": {},
   "source": [
    "# Products correlation - Code Examples"
   ]
  },
  {
   "cell_type": "markdown",
   "metadata": {},
   "source": [
    "We will look at one score for variables that have a Gaussian distribution and a linear relationship.\n",
    "More specifically, we want here to illustrate the concept of negative correlation (r < 1)"
   ]
  },
  {
   "cell_type": "code",
   "execution_count": 2,
   "metadata": {},
   "outputs": [
    {
     "name": "stdout",
     "output_type": "stream",
     "text": [
      "Dez \n",
      "last updated: 2019-12-08 \n",
      "\n",
      "numpy 1.15.4\n",
      "pandas 0.23.4\n",
      "matplotlib 3.0.2\n"
     ]
    }
   ],
   "source": [
    "#!pip install watermark\n",
    "%load_ext watermark\n",
    "%watermark -a 'Dez' -u -d -p numpy,pandas,matplotlib"
   ]
  },
  {
   "cell_type": "markdown",
   "metadata": {},
   "source": [
    "### Overview\n"
   ]
  },
  {
   "cell_type": "markdown",
   "metadata": {},
   "source": [
    "- [Test dataset](#Test-Dataset)\n",
    "    - [Plot](#Plot)\n",
    "- [Covariance](#Covariance)\n",
    "    - [Pearson correlation](#Pearson-Coefficient)\n",
    "- [Summary](#Summary)"
   ]
  },
  {
   "cell_type": "markdown",
   "metadata": {},
   "source": [
    "<br>\n",
    "<br>"
   ]
  },
  {
   "cell_type": "code",
   "execution_count": 32,
   "metadata": {},
   "outputs": [],
   "source": [
    "# Import necessary packages to generate needed random variables for the simulation\n",
    "import numpy as np\n",
    "from numpy import mean\n",
    "from numpy import std\n",
    "from numpy.random import randn\n",
    "from numpy.random import seed\n",
    "from matplotlib import pyplot"
   ]
  },
  {
   "cell_type": "code",
   "execution_count": 4,
   "metadata": {},
   "outputs": [],
   "source": [
    "# seed random number generator.\n",
    "# seed() method in Python's random module initializes the pseudorandom number generator.\n",
    "seed(1)"
   ]
  },
  {
   "cell_type": "code",
   "execution_count": 16,
   "metadata": {},
   "outputs": [],
   "source": [
    "# prepare data, here representing products data points. Arbitrarliy\n",
    "A = 10 + 6*randn(1000)\n",
    "B = 3 * randn(1000) + 5 - A"
   ]
  },
  {
   "cell_type": "code",
   "execution_count": 20,
   "metadata": {},
   "outputs": [
    {
     "name": "stdout",
     "output_type": "stream",
     "text": [
      "A: mean = 10.186 stdv = 6.197\n",
      "B: mean = -5.138 stdv = 6.674\n"
     ]
    }
   ],
   "source": [
    "#Summary results\n",
    "# Print the mean and standard deviation for each variable (assuming they are represented by products A and B)\n",
    "print('A: mean = %.3f stdv = %.3f' % (mean(A), std(A)))\n",
    "print('B: mean = %.3f stdv = %.3f' % (mean(B), std(B)))"
   ]
  },
  {
   "cell_type": "markdown",
   "metadata": {},
   "source": [
    "## Plot"
   ]
  },
  {
   "cell_type": "code",
   "execution_count": 18,
   "metadata": {},
   "outputs": [
    {
     "data": {
      "image/png": "[encoded data removed]",
      "text/plain": [
       "<Figure size 432x288 with 1 Axes>"
      ]
     },
     "metadata": {
      "needs_background": "light"
     },
     "output_type": "display_data"
    }
   ],
   "source": [
    "pyplot.scatter(A,B)\n",
    "pyplot.show()"
   ]
  },
  {
   "cell_type": "markdown",
   "metadata": {},
   "source": [
    "Looking at the scatter plot of the two variables created, it is easy to observe there is a relationship between the two variables because of the decreasing trend. This is expected as we have contrived the dataset (with a negative slop betweem data points from A and B)."
   ]
  },
  {
   "cell_type": "markdown",
   "metadata": {},
   "source": [
    "## Covariance"
   ]
  },
  {
   "cell_type": "code",
   "execution_count": 26,
   "metadata": {},
   "outputs": [
    {
     "name": "stdout",
     "output_type": "stream",
     "text": [
      "[[ 38.44178137 -37.49351744]\n",
      " [-37.49351744  44.58900622]]\n"
     ]
    }
   ],
   "source": [
    "# calculate the covariance between two variables\n",
    "from numpy import cov\n",
    "\n",
    "# Running the example below calculates and prints the covariance matrix\n",
    "## cov(X, Y) = (sum (x - mean(X)) * (Y - mean(Y)) ) * 1/(N-1)\n",
    "covariance = cov(A, B)\n",
    "print(covariance)"
   ]
  },
  {
   "cell_type": "markdown",
   "metadata": {},
   "source": [
    "Because we've initially made it such that the dataset was contrived with each variable drawn from a Gaussian distribution AND the variables linearly correlated, covariance can in this case be a reasonable method for describing the relationship. However covariance as a statistical tool is difficult to interpret.\n",
    "We then introduce Pearson’s correlation coefficient."
   ]
  },
  {
   "cell_type": "markdown",
   "metadata": {},
   "source": [
    "## Pearson Coefficient"
   ]
  },
  {
   "cell_type": "code",
   "execution_count": 27,
   "metadata": {},
   "outputs": [
    {
     "name": "stdout",
     "output_type": "stream",
     "text": [
      "Pearsons correlation: -0.906\n"
     ]
    }
   ],
   "source": [
    "# Quantify the strength of the linear relationship between two data samples\n",
    "from scipy.stats import pearsonr\n",
    "\n",
    "##  Pearson's correlation coefficient (PCC, or r) = covariance(X, Y) / (stdv(X) * stdv(Y))\n",
    "## coefficient has its boundaries between -1 and 1; a value below -0.5 or above 0.5 indicates a notable correlation.\n",
    "\n",
    "# Running the example calculates and prints the Pearson’s correlation coefficient.\n",
    "corr, _= pearsonr(A,B)\n",
    "print('Pearsons correlation: %.3f' % corr)"
   ]
  },
  {
   "cell_type": "markdown",
   "metadata": {},
   "source": [
    "This oefficient of almost -1 characterises a high level of negative correlation between the two data samples.<br>\n",
    "\n",
    "To evaluate the association between more than two variables, we can calculate a matrix of the relationships between each pair of variables in the dataset. We thus obtain a symmetric matrix called a <i>correlation matrix</i>, and the correlation coefficient equals 1.0 along the diagonal (as each column always perfectly correlates with itself)."
   ]
  },
  {
   "cell_type": "markdown",
   "metadata": {},
   "source": [
    "<br>\n",
    "<br>"
   ]
  },
  {
   "cell_type": "code",
   "execution_count": null,
   "metadata": {},
   "outputs": [],
   "source": []
  }
 ],
 "metadata": {
  "anaconda-cloud": {},
  "kernelspec": {
   "display_name": "Python 3",
   "language": "python",
   "name": "python3"
  },
  "language_info": {
   "codemirror_mode": {
    "name": "ipython",
    "version": 3
   },
   "file_extension": ".py",
   "mimetype": "text/x-python",
   "name": "python",
   "nbconvert_exporter": "python",
   "pygments_lexer": "ipython3",
   "version": "3.7.5"
  }
 },
 "nbformat": 4,
 "nbformat_minor": 1
}
